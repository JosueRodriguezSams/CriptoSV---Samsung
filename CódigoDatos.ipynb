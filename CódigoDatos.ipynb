{
  "nbformat": 4,
  "nbformat_minor": 0,
  "metadata": {
    "colab": {
      "provenance": []
    },
    "kernelspec": {
      "name": "python3",
      "display_name": "Python 3"
    },
    "language_info": {
      "name": "python"
    }
  },
  "cells": [
    {
      "cell_type": "code",
      "source": [
        "from google.colab import drive\n",
        "drive.mount('/content/drive')"
      ],
      "metadata": {
        "id": "LXM4o9AV8BMG"
      },
      "execution_count": null,
      "outputs": []
    },
    {
      "cell_type": "code",
      "execution_count": null,
      "metadata": {
        "colab": {
          "base_uri": "https://localhost:8080/"
        },
        "id": "QC8uTLRKJQ87",
        "outputId": "46b22a15-b289-4bd7-c206-c92c1e6ddad0"
      },
      "outputs": [
        {
          "output_type": "stream",
          "name": "stdout",
          "text": [
            "           Deuda total\n",
            "Fecha                 \n",
            "2019-01       19115.16\n",
            "2019-02       19135.14\n",
            "2019-03        19286.6\n",
            "2019-04       19273.34\n",
            "2019-05       19240.87\n",
            "...                ...\n",
            "2024-6(p)     20732.57\n",
            "2024-7(p)     20758.87\n",
            "2024-8(p)     20859.08\n",
            "2024-9(p)     20943.05\n",
            "2024-10(p)    20836.88\n",
            "\n",
            "[70 rows x 1 columns]\n"
          ]
        }
      ],
      "source": [
        "import pandas as pd\n",
        "\n",
        "path_relative = \"/content/drive/MyDrive/Datos bitcoin/Deuda_SV/Deuda_Pública_Total_Mensual (1).csv\"\n",
        "\n",
        "df = pd.read_csv(path_relative, encoding='ISO-8859-1', sep=\";\")\n",
        "\n",
        "fechas = df.iloc[2, 1:].values\n",
        "deuda_total = df.iloc[3, 1:].values\n",
        "\n",
        "df_deuda = pd.DataFrame({'Deuda total': deuda_total}, index=fechas)\n",
        "df_deuda.index.name = \"Fecha\"\n",
        "\n",
        "print(df_deuda)\n"
      ]
    },
    {
      "cell_type": "code",
      "source": [
        "import pandas as pd\n",
        "\n",
        "ipc_file_path = \"/content/drive/MyDrive/Datos bitcoin/IPC_SV/Índice_de_Precios_al_Consumidor_(IPC).csv\"\n",
        "\n",
        "df_ipc = pd.read_csv(ipc_file_path, encoding='ISO-8859-1', sep=\";\", skiprows=4)\n",
        "\n",
        "df_ipc.set_index(' ', inplace=True)\n",
        "\n",
        "meses = ['Ene', 'Feb', 'Mar', 'Abr', 'May', 'Jun', 'Jul', 'Ago', 'Sep', 'Oct', 'Nov', 'Dic']\n",
        "años = ['2023', '2024']\n",
        "\n",
        "datos_limpios = []\n",
        "for i, año in enumerate(años):\n",
        "    for mes in meses:\n",
        "        columna = mes if i == 0 else f\"{mes}.{i}\"\n",
        "        if columna in df_ipc.columns:\n",
        "            datos_limpios.append(\n",
        "                df_ipc[[columna]].rename(columns={columna: \"Valor\"}).assign(Año=año, Mes=mes)\n",
        "            )\n",
        "\n",
        "df_limpio = pd.concat(datos_limpios)\n",
        "df_limpio.reset_index(inplace=True)\n",
        "df_limpio.rename(columns={' ': 'Concepto'}, inplace=True)\n",
        "\n",
        "df_limpio = df_limpio[['Concepto', 'Año', 'Mes', 'Valor']]\n",
        "\n",
        "print(df_limpio.head())\n",
        "\n"
      ],
      "metadata": {
        "colab": {
          "base_uri": "https://localhost:8080/"
        },
        "id": "lBrGmpcB9m05",
        "outputId": "ee9de2ea-215e-4cd2-c3d2-5bac43bdc6f3"
      },
      "execution_count": null,
      "outputs": [
        {
          "output_type": "stream",
          "name": "stdout",
          "text": [
            "                                            Concepto   Año  Mes   Valor\n",
            "0                                1 Índice general     2023  Ene  128.21\n",
            "1          1.1 Alimentos y bebidas no alcohólicas     2023  Ene  149.77\n",
            "2                 1.2 Bebidas alcohólicas, tabaco     2023  Ene  166.64\n",
            "3                 1.3 Prendas de vestir y calzado     2023  Ene  100.08\n",
            "4         1.4 Alojamiento, agua, electricidad, ga...  2023  Ene  143.81\n"
          ]
        }
      ]
    },
    {
      "cell_type": "code",
      "source": [
        "import pandas as pd\n",
        "\n",
        "file_path = '/content/drive/MyDrive/Datos bitcoin/Inversion_SV/Posición_de_Inversión_Internacional_a_fin_de_período.csv'\n",
        "\n",
        "df = pd.read_csv(file_path, encoding='ISO-8859-1', sep=';', skiprows=4)\n",
        "\n",
        "df_clean = df.iloc[:2]\n",
        "\n",
        "df_clean = df_clean.rename(columns={df.columns[0]: 'Concepto'})\n",
        "\n",
        "df_long = df_clean.melt(id_vars='Concepto', var_name='Período', value_name='Valor')\n",
        "\n",
        "df_long['Valor'] = pd.to_numeric(df_long['Valor'], errors='coerce')\n",
        "\n",
        "print(df_long.head())\n"
      ],
      "metadata": {
        "colab": {
          "base_uri": "https://localhost:8080/"
        },
        "id": "zckdPN5v9nXp",
        "outputId": "1173f2bb-6923-4cfe-f6dd-02098bc81473"
      },
      "execution_count": null,
      "outputs": [
        {
          "output_type": "stream",
          "name": "stdout",
          "text": [
            "  Concepto    Período     Valor\n",
            "0  Activos  -16948.47   9945.76\n",
            "1  Pasivos  -16948.47  26894.23\n",
            "2  Activos  -17321.75  10176.15\n",
            "3  Pasivos  -17321.75  27497.90\n",
            "4  Activos  -16998.44  11505.66\n"
          ]
        }
      ]
    },
    {
      "cell_type": "code",
      "source": [
        "import pandas as pd\n",
        "\n",
        "file_path = '/content/drive/MyDrive/Datos bitcoin/PIB_SV/Producto_Interno_Bruto__Producción,_Gasto_e_Ingreso._A_precios_corrientes.csv'\n",
        "\n",
        "df = pd.read_csv(file_path, encoding='ISO-8859-1', sep=';', skiprows=5)\n",
        "\n",
        "df.columns = ['Concepto', '2018', '2019', '2020', '2021', '2022', '2023']\n",
        "\n",
        "df = df.dropna(how='all', subset=['2018', '2019', '2020', '2021', '2022', '2023'])\n",
        "\n",
        "df.iloc[:, 1:] = df.iloc[:, 1:].apply(pd.to_numeric, errors='coerce')\n",
        "\n",
        "pd.set_option('display.max_columns', None)\n",
        "pd.set_option('display.max_rows', None)\n",
        "print(df)\n"
      ],
      "metadata": {
        "id": "e6UMQa9x9nns",
        "colab": {
          "base_uri": "https://localhost:8080/"
        },
        "outputId": "be566af8-8aba-4d7b-e20b-96e98c4fb54a"
      },
      "execution_count": 5,
      "outputs": [
        {
          "output_type": "stream",
          "name": "stdout",
          "text": [
            "                                             Concepto      2018      2019  \\\n",
            "0          1.1 A. Agricultura, ganadería, silvicul...   1335.59   1383.42   \n",
            "1          1.2 B. Explotación de minas y canteras ...     70.99     75.95   \n",
            "2               1.3 C. Industrias manufactureras        4082.11   4182.35   \n",
            "3          1.4 D. Suministro de electricidad, gas,...    765.00    764.02   \n",
            "4          1.5 E. Suministro de agua, alcantarilla...    178.59    187.59   \n",
            "5                            1.6 F. Construcción        1428.17   1603.96   \n",
            "6          1.7 G. Comercio, reparación de vehículo...   3017.45   3096.08   \n",
            "7             1.8 H. Transporte y almacenamiento        1143.98   1217.00   \n",
            "8          1.9 I. Actividades de alojamiento y de ...    764.01    793.12   \n",
            "9           1.10 J. Información y comunicaciones         841.85    823.09   \n",
            "10         1.11 K. Actividades financieras y de se...   1668.89   1738.61   \n",
            "11             1.12 L. Actividades inmobiliarias        1899.33   1933.43   \n",
            "12         1.13 M. Actividades profesionales, cien...    578.87    573.65   \n",
            "13         1.14 N. Actividades de servicios admini...    995.46   1044.63   \n",
            "14         1.15 O. Administración pública y defens...   1909.54   1973.15   \n",
            "15                             1.16 P. Enseñanza        1219.13   1259.68   \n",
            "16         1.17 Q. Actividades de atención de la s...    811.65    851.98   \n",
            "17         1.18 R. Actividades artísticas, de entr...    108.82    111.58   \n",
            "18         1.19 S. Otras actividades de servicios ...    373.03    387.85   \n",
            "19         1.20 T. Actividades de los hogares como...    309.48    315.61   \n",
            "20                     1.21 Valor Agregado Bruto       23501.95  24316.75   \n",
            "22          1.22 Impuestos netos de subvenciones        2518.91   2564.39   \n",
            "23         1.23 Producto Interno Bruto por enfoque...  26020.85  26881.14   \n",
            "25                    2.1 Gasto de consumo final       25863.00  26285.82   \n",
            "26                                 2.1.1 Hogares       21497.32  21805.95   \n",
            "27           2.1.2 Instituciones Sin Fines de Lucr...    173.81    170.28   \n",
            "28                        2.1.3 Gobierno General        4191.87   4309.59   \n",
            "29                2.2 Formación Bruta de Capital        4780.43   4931.29   \n",
            "30           2.2.1 Formación Bruta de Capital fijo...   4467.63   4774.01   \n",
            "31                               2.2.1.1 Privado        3774.83   4129.27   \n",
            "32                               2.2.1.2 Público         692.80    644.74   \n",
            "33                2.2.2 Variación de existencias         312.80    157.28   \n",
            "34         2.3 Exportación de bienes y servicios 3...   7528.97   8052.49   \n",
            "35         2.4 Importación de bienes y servicios 3...  12151.54  12388.47   \n",
            "36         2.5 Producto Interno Bruto por enfoque ...  26020.85  26881.14   \n",
            "38                            3.1 Remuneraciones        9924.66  10299.85   \n",
            "39                                 3.2 Impuestos        2934.35   3011.51   \n",
            "40                           3.3 Subvenciones 4/        -293.52   -308.90   \n",
            "41            3.4 Excedente de explotación bruto        9906.91  10193.96   \n",
            "42                       3.5 Ingreso mixto bruto        3548.45   3684.71   \n",
            "43         3.6 Producto Interno Bruto por enfoque ...  26020.85  26881.14   \n",
            "\n",
            "        2020      2021      2022      2023  \n",
            "0    1334.48   1397.63   1495.72   1566.57  \n",
            "1      69.96     77.36     84.74     86.16  \n",
            "2    3673.49   4376.60   4809.30   4763.31  \n",
            "3     595.15    741.50   1003.12   1093.71  \n",
            "4     190.03    213.62    228.87    247.64  \n",
            "5    1383.86   1591.74   1938.38   2297.49  \n",
            "6    2695.68   3295.59   3757.57   3972.77  \n",
            "7    1045.61   1245.72   1366.44   1390.44  \n",
            "8     648.34    830.75    973.95   1047.52  \n",
            "9     813.28    925.24    971.38   1010.77  \n",
            "10   1862.77   2063.05   2247.67   2509.86  \n",
            "11   1828.53   1841.24   1886.69   1995.28  \n",
            "12    518.62    579.74    651.85    745.72  \n",
            "13   1011.36   1200.81   1363.45   1464.74  \n",
            "14   2180.90   2306.40   2463.67   2649.98  \n",
            "15   1223.33   1385.35   1433.74   1478.08  \n",
            "16    858.50   1049.45   1136.60   1183.77  \n",
            "17     66.91    102.99    121.00    137.49  \n",
            "18    317.75    384.88    700.06    743.34  \n",
            "19    245.54    268.33       NaN       NaN  \n",
            "20  22564.09  25877.96  28634.21  30384.63  \n",
            "22   2357.10   3165.18   3354.71   3630.99  \n",
            "23  24921.19  29043.14  31988.92  34015.62  \n",
            "25  24969.61  29312.43  32505.81  33808.56  \n",
            "26  19926.81  23553.29  26763.19  27681.78  \n",
            "27    134.12    140.23       NaN       NaN  \n",
            "28   4908.69   5618.91   5742.62   6126.78  \n",
            "29   4289.34   6783.00   7424.24   6557.93  \n",
            "30   4350.12   6112.14   6940.03   7492.52  \n",
            "31   3733.74   5432.23   6286.00   6628.41  \n",
            "32    616.38    679.91    654.03    864.11  \n",
            "33    -60.78    670.86    484.21   -934.59  \n",
            "34   6112.37   8359.05  10129.31  10587.77  \n",
            "35  10450.13  15411.33  18070.44  16938.65  \n",
            "36  24921.19  29043.14  31988.92  34015.62  \n",
            "38   9963.70  11134.78  11602.69  12096.36  \n",
            "39   2739.58   3666.33   3539.27   3830.74  \n",
            "40   -260.06   -332.54       NaN       NaN  \n",
            "41   9025.38  11060.44  12584.59  13582.67  \n",
            "42   3452.58   3514.12   4262.37   4505.84  \n",
            "43  24921.19  29043.14  31988.92  34015.62  \n"
          ]
        }
      ]
    },
    {
      "cell_type": "code",
      "source": [],
      "metadata": {
        "id": "qvg73ot39n29"
      },
      "execution_count": null,
      "outputs": []
    },
    {
      "cell_type": "code",
      "source": [],
      "metadata": {
        "id": "5vFP1DpX9oFF"
      },
      "execution_count": null,
      "outputs": []
    }
  ]
}