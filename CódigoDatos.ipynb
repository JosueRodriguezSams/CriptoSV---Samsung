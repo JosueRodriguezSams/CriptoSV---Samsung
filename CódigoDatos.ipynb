{
  "nbformat": 4,
  "nbformat_minor": 0,
  "metadata": {
    "colab": {
      "provenance": []
    },
    "kernelspec": {
      "name": "python3",
      "display_name": "Python 3"
    },
    "language_info": {
      "name": "python"
    }
  },
  "cells": [
    {
      "cell_type": "code",
      "source": [
        "from google.colab import drive\n",
        "drive.mount('/content/drive')"
      ],
      "metadata": {
        "id": "LXM4o9AV8BMG"
      },
      "execution_count": null,
      "outputs": []
    },
    {
      "cell_type": "code",
      "execution_count": 1,
      "metadata": {
        "colab": {
          "base_uri": "https://localhost:8080/"
        },
        "id": "QC8uTLRKJQ87",
        "outputId": "46b22a15-b289-4bd7-c206-c92c1e6ddad0"
      },
      "outputs": [
        {
          "output_type": "stream",
          "name": "stdout",
          "text": [
            "           Deuda total\n",
            "Fecha                 \n",
            "2019-01       19115.16\n",
            "2019-02       19135.14\n",
            "2019-03        19286.6\n",
            "2019-04       19273.34\n",
            "2019-05       19240.87\n",
            "...                ...\n",
            "2024-6(p)     20732.57\n",
            "2024-7(p)     20758.87\n",
            "2024-8(p)     20859.08\n",
            "2024-9(p)     20943.05\n",
            "2024-10(p)    20836.88\n",
            "\n",
            "[70 rows x 1 columns]\n"
          ]
        }
      ],
      "source": [
        "import pandas as pd\n",
        "\n",
        "path_relative = \"/content/drive/MyDrive/Datos bitcoin/Deuda_SV/Deuda_Pública_Total_Mensual (1).csv\"\n",
        "\n",
        "df = pd.read_csv(path_relative, encoding='ISO-8859-1', sep=\";\")\n",
        "\n",
        "fechas = df.iloc[2, 1:].values\n",
        "deuda_total = df.iloc[3, 1:].values\n",
        "\n",
        "df_deuda = pd.DataFrame({'Deuda total': deuda_total}, index=fechas)\n",
        "df_deuda.index.name = \"Fecha\"\n",
        "\n",
        "print(df_deuda)\n"
      ]
    },
    {
      "cell_type": "code",
      "source": [
        "import pandas as pd\n",
        "\n",
        "ipc_file_path = \"/content/drive/MyDrive/Datos bitcoin/IPC_SV/Índice_de_Precios_al_Consumidor_(IPC).csv\"\n",
        "\n",
        "df_ipc = pd.read_csv(ipc_file_path, encoding='ISO-8859-1', sep=\";\", skiprows=4)\n",
        "\n",
        "df_ipc.set_index(' ', inplace=True)\n",
        "\n",
        "meses = ['Ene', 'Feb', 'Mar', 'Abr', 'May', 'Jun', 'Jul', 'Ago', 'Sep', 'Oct', 'Nov', 'Dic']\n",
        "años = ['2023', '2024']\n",
        "\n",
        "datos_limpios = []\n",
        "for i, año in enumerate(años):\n",
        "    for mes in meses:\n",
        "        columna = mes if i == 0 else f\"{mes}.{i}\"\n",
        "        if columna in df_ipc.columns:\n",
        "            datos_limpios.append(\n",
        "                df_ipc[[columna]].rename(columns={columna: \"Valor\"}).assign(Año=año, Mes=mes)\n",
        "            )\n",
        "\n",
        "df_limpio = pd.concat(datos_limpios)\n",
        "df_limpio.reset_index(inplace=True)\n",
        "df_limpio.rename(columns={' ': 'Concepto'}, inplace=True)\n",
        "\n",
        "df_limpio = df_limpio[['Concepto', 'Año', 'Mes', 'Valor']]\n",
        "\n",
        "print(df_limpio.head())\n",
        "\n"
      ],
      "metadata": {
        "colab": {
          "base_uri": "https://localhost:8080/"
        },
        "id": "lBrGmpcB9m05",
        "outputId": "ee9de2ea-215e-4cd2-c3d2-5bac43bdc6f3"
      },
      "execution_count": 3,
      "outputs": [
        {
          "output_type": "stream",
          "name": "stdout",
          "text": [
            "                                            Concepto   Año  Mes   Valor\n",
            "0                                1 Índice general     2023  Ene  128.21\n",
            "1          1.1 Alimentos y bebidas no alcohólicas     2023  Ene  149.77\n",
            "2                 1.2 Bebidas alcohólicas, tabaco     2023  Ene  166.64\n",
            "3                 1.3 Prendas de vestir y calzado     2023  Ene  100.08\n",
            "4         1.4 Alojamiento, agua, electricidad, ga...  2023  Ene  143.81\n"
          ]
        }
      ]
    },
    {
      "cell_type": "code",
      "source": [
        "import pandas as pd\n",
        "\n",
        "file_path = '/content/drive/MyDrive/Datos bitcoin/Inversion_SV/Posición_de_Inversión_Internacional_a_fin_de_período.csv'\n",
        "\n",
        "df = pd.read_csv(file_path, encoding='ISO-8859-1', sep=';', skiprows=4)\n",
        "\n",
        "df_clean = df.iloc[:2]\n",
        "\n",
        "df_clean = df_clean.rename(columns={df.columns[0]: 'Concepto'})\n",
        "\n",
        "df_long = df_clean.melt(id_vars='Concepto', var_name='Período', value_name='Valor')\n",
        "\n",
        "df_long['Valor'] = pd.to_numeric(df_long['Valor'], errors='coerce')\n",
        "\n",
        "print(df_long.head())\n"
      ],
      "metadata": {
        "colab": {
          "base_uri": "https://localhost:8080/"
        },
        "id": "zckdPN5v9nXp",
        "outputId": "1173f2bb-6923-4cfe-f6dd-02098bc81473"
      },
      "execution_count": 5,
      "outputs": [
        {
          "output_type": "stream",
          "name": "stdout",
          "text": [
            "  Concepto    Período     Valor\n",
            "0  Activos  -16948.47   9945.76\n",
            "1  Pasivos  -16948.47  26894.23\n",
            "2  Activos  -17321.75  10176.15\n",
            "3  Pasivos  -17321.75  27497.90\n",
            "4  Activos  -16998.44  11505.66\n"
          ]
        }
      ]
    },
    {
      "cell_type": "code",
      "source": [],
      "metadata": {
        "id": "e6UMQa9x9nns"
      },
      "execution_count": null,
      "outputs": []
    },
    {
      "cell_type": "code",
      "source": [],
      "metadata": {
        "id": "qvg73ot39n29"
      },
      "execution_count": null,
      "outputs": []
    },
    {
      "cell_type": "code",
      "source": [],
      "metadata": {
        "id": "5vFP1DpX9oFF"
      },
      "execution_count": null,
      "outputs": []
    }
  ]
}