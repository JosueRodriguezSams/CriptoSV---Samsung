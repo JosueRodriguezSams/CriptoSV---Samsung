{
 "cells": [
  {
   "cell_type": "markdown",
   "id": "8bf2407d-f142-4832-ba1f-b4fd4b56573c",
   "metadata": {},
   "source": [
    "# Análisis sobre el impacto del bitcoin en la macroeconomía de El Salvador"
   ]
  },
  {
   "cell_type": "code",
   "execution_count": 37,
   "id": "54dbcaf6-c3e3-4dc6-ae16-6389d05bab51",
   "metadata": {},
   "outputs": [
    {
     "data": {
      "text/html": [
       "<div>\n",
       "<style scoped>\n",
       "    .dataframe tbody tr th:only-of-type {\n",
       "        vertical-align: middle;\n",
       "    }\n",
       "\n",
       "    .dataframe tbody tr th {\n",
       "        vertical-align: top;\n",
       "    }\n",
       "\n",
       "    .dataframe thead th {\n",
       "        text-align: right;\n",
       "    }\n",
       "</style>\n",
       "<table border=\"1\" class=\"dataframe\">\n",
       "  <thead>\n",
       "    <tr style=\"text-align: right;\">\n",
       "      <th></th>\n",
       "      <th>Deuda total</th>\n",
       "    </tr>\n",
       "    <tr>\n",
       "      <th>Fecha</th>\n",
       "      <th></th>\n",
       "    </tr>\n",
       "  </thead>\n",
       "  <tbody>\n",
       "    <tr>\n",
       "      <th>2019-01</th>\n",
       "      <td>19115.16</td>\n",
       "    </tr>\n",
       "    <tr>\n",
       "      <th>2019-02</th>\n",
       "      <td>19135.14</td>\n",
       "    </tr>\n",
       "    <tr>\n",
       "      <th>2019-03</th>\n",
       "      <td>19286.6</td>\n",
       "    </tr>\n",
       "    <tr>\n",
       "      <th>2019-04</th>\n",
       "      <td>19273.34</td>\n",
       "    </tr>\n",
       "    <tr>\n",
       "      <th>2019-05</th>\n",
       "      <td>19240.87</td>\n",
       "    </tr>\n",
       "    <tr>\n",
       "      <th>...</th>\n",
       "      <td>...</td>\n",
       "    </tr>\n",
       "    <tr>\n",
       "      <th>2024-6(p)</th>\n",
       "      <td>20732.57</td>\n",
       "    </tr>\n",
       "    <tr>\n",
       "      <th>2024-7(p)</th>\n",
       "      <td>20758.87</td>\n",
       "    </tr>\n",
       "    <tr>\n",
       "      <th>2024-8(p)</th>\n",
       "      <td>20859.08</td>\n",
       "    </tr>\n",
       "    <tr>\n",
       "      <th>2024-9(p)</th>\n",
       "      <td>20943.05</td>\n",
       "    </tr>\n",
       "    <tr>\n",
       "      <th>2024-10(p)</th>\n",
       "      <td>20836.88</td>\n",
       "    </tr>\n",
       "  </tbody>\n",
       "</table>\n",
       "<p>70 rows × 1 columns</p>\n",
       "</div>"
      ],
      "text/plain": [
       "           Deuda total\n",
       "Fecha                 \n",
       "2019-01       19115.16\n",
       "2019-02       19135.14\n",
       "2019-03        19286.6\n",
       "2019-04       19273.34\n",
       "2019-05       19240.87\n",
       "...                ...\n",
       "2024-6(p)     20732.57\n",
       "2024-7(p)     20758.87\n",
       "2024-8(p)     20859.08\n",
       "2024-9(p)     20943.05\n",
       "2024-10(p)    20836.88\n",
       "\n",
       "[70 rows x 1 columns]"
      ]
     },
     "execution_count": 37,
     "metadata": {},
     "output_type": "execute_result"
    }
   ],
   "source": [
    "import pandas as pd\n",
    "path_relative = \"Datos_bitcoin/Deuda_SV/Deuda_Pública_Total_Mensual.csv\"\n",
    "df = pd.read_csv(path_relative, encoding='ISO-8859-1', sep=\",\")\n",
    "\n",
    "data = {\"Deuda total\": df.iloc[3, 1:].values}\n",
    "df_deuda = pd.DataFrame(data, index = df.iloc[2, 1:].values)\n",
    "df_deuda.index.name = \"Fecha\"\n",
    "df_deuda"
   ]
  },
  {
   "cell_type": "code",
   "execution_count": null,
   "id": "40d148c8-f711-42e3-affb-f40671a154b0",
   "metadata": {},
   "outputs": [],
   "source": []
  }
 ],
 "metadata": {
  "kernelspec": {
   "display_name": "base",
   "language": "python",
   "name": "python3"
  },
  "language_info": {
   "codemirror_mode": {
    "name": "ipython",
    "version": 3
   },
   "file_extension": ".py",
   "mimetype": "text/x-python",
   "name": "python",
   "nbconvert_exporter": "python",
   "pygments_lexer": "ipython3",
   "version": "3.12.7"
  }
 },
 "nbformat": 4,
 "nbformat_minor": 5
}
