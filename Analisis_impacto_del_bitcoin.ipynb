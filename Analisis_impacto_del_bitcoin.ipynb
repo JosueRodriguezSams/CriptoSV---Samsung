{
 "cells": [
  {
   "cell_type": "markdown",
   "id": "8bf2407d-f142-4832-ba1f-b4fd4b56573c",
   "metadata": {},
   "source": [
    "# Análisis sobre el impacto del bitcoin en la macroeconomía de El Salvador"
   ]
  },
  {
   "cell_type": "code",
   "execution_count": null,
   "id": "ce94b509",
   "metadata": {},
   "outputs": [],
   "source": [
    "import pandas as pd\n",
    "import numpy as np"
   ]
  },
  {
   "cell_type": "markdown",
   "id": "13092212",
   "metadata": {},
   "source": [
    "## Tratamiento de datos"
   ]
  },
  {
   "cell_type": "markdown",
   "id": "5c7469cb",
   "metadata": {},
   "source": [
    "### Deuda pública de El Salvador"
   ]
  },
  {
   "cell_type": "code",
   "execution_count": 12,
   "id": "54dbcaf6-c3e3-4dc6-ae16-6389d05bab51",
   "metadata": {},
   "outputs": [
    {
     "data": {
      "text/html": [
       "<div>\n",
       "<style scoped>\n",
       "    .dataframe tbody tr th:only-of-type {\n",
       "        vertical-align: middle;\n",
       "    }\n",
       "\n",
       "    .dataframe tbody tr th {\n",
       "        vertical-align: top;\n",
       "    }\n",
       "\n",
       "    .dataframe thead th {\n",
       "        text-align: right;\n",
       "    }\n",
       "</style>\n",
       "<table border=\"1\" class=\"dataframe\">\n",
       "  <thead>\n",
       "    <tr style=\"text-align: right;\">\n",
       "      <th></th>\n",
       "      <th>Deuda total en millones</th>\n",
       "    </tr>\n",
       "    <tr>\n",
       "      <th>Fecha</th>\n",
       "      <th></th>\n",
       "    </tr>\n",
       "  </thead>\n",
       "  <tbody>\n",
       "    <tr>\n",
       "      <th>2019-01</th>\n",
       "      <td>19115.16</td>\n",
       "    </tr>\n",
       "    <tr>\n",
       "      <th>2019-02</th>\n",
       "      <td>19135.14</td>\n",
       "    </tr>\n",
       "    <tr>\n",
       "      <th>2019-03</th>\n",
       "      <td>19286.60</td>\n",
       "    </tr>\n",
       "    <tr>\n",
       "      <th>2019-04</th>\n",
       "      <td>19273.34</td>\n",
       "    </tr>\n",
       "    <tr>\n",
       "      <th>2019-05</th>\n",
       "      <td>19240.87</td>\n",
       "    </tr>\n",
       "  </tbody>\n",
       "</table>\n",
       "</div>"
      ],
      "text/plain": [
       "         Deuda total en millones\n",
       "Fecha                           \n",
       "2019-01                 19115.16\n",
       "2019-02                 19135.14\n",
       "2019-03                 19286.60\n",
       "2019-04                 19273.34\n",
       "2019-05                 19240.87"
      ]
     },
     "execution_count": 12,
     "metadata": {},
     "output_type": "execute_result"
    }
   ],
   "source": [
    "deuda_file_path = \"Datos_bitcoin/Deuda_SV/Deuda_Pública_Total_Mensual.csv\"\n",
    "df = pd.read_csv(deuda_file_path, encoding='ISO-8859-1', sep=\",\")\n",
    "\n",
    "data = {\"Deuda total en millones\": df.iloc[3, 1:].values}\n",
    "df_deuda = pd.DataFrame(data, index = df.iloc[2, 1:].values)\n",
    "df_deuda.index.name = \"Fecha\"\n",
    "df_deuda[\"Deuda total en millones\"] = df_deuda[\"Deuda total en millones\"].astype(float)\n",
    "df_deuda.head()"
   ]
  },
  {
   "cell_type": "markdown",
   "id": "955498ce",
   "metadata": {},
   "source": [
    "#### Diagrama lineal"
   ]
  },
  {
   "cell_type": "code",
   "execution_count": 9,
   "id": "9e230b48",
   "metadata": {},
   "outputs": [],
   "source": [
    "# codigo para mostrar diagrama lineal"
   ]
  },
  {
   "cell_type": "markdown",
   "id": "eb2e5bfa",
   "metadata": {},
   "source": [
    "### Índice de precios al consumidor (IPC)"
   ]
  },
  {
   "cell_type": "code",
   "execution_count": 13,
   "id": "8703be8d",
   "metadata": {},
   "outputs": [
    {
     "data": {
      "text/html": [
       "<div>\n",
       "<style scoped>\n",
       "    .dataframe tbody tr th:only-of-type {\n",
       "        vertical-align: middle;\n",
       "    }\n",
       "\n",
       "    .dataframe tbody tr th {\n",
       "        vertical-align: top;\n",
       "    }\n",
       "\n",
       "    .dataframe thead th {\n",
       "        text-align: right;\n",
       "    }\n",
       "</style>\n",
       "<table border=\"1\" class=\"dataframe\">\n",
       "  <thead>\n",
       "    <tr style=\"text-align: right;\">\n",
       "      <th></th>\n",
       "      <th>Índice general</th>\n",
       "      <th>Alimentos y bebidas no alcohólicas</th>\n",
       "      <th>Bebidas alcohólicas, tabaco</th>\n",
       "      <th>Prendas de vestir y calzado</th>\n",
       "      <th>Alojamiento, agua, electricidad, gas y otros combustibles</th>\n",
       "      <th>Muebles, artículos para el hogar y para la conservación ordinaria del hogar</th>\n",
       "      <th>Salud</th>\n",
       "      <th>Transporte</th>\n",
       "      <th>Comunicaciones</th>\n",
       "      <th>Recreación y cultura</th>\n",
       "      <th>Educación</th>\n",
       "      <th>Restaurantes y hoteles</th>\n",
       "      <th>Bienes y servicios diversos</th>\n",
       "    </tr>\n",
       "    <tr>\n",
       "      <th>Fecha</th>\n",
       "      <th></th>\n",
       "      <th></th>\n",
       "      <th></th>\n",
       "      <th></th>\n",
       "      <th></th>\n",
       "      <th></th>\n",
       "      <th></th>\n",
       "      <th></th>\n",
       "      <th></th>\n",
       "      <th></th>\n",
       "      <th></th>\n",
       "      <th></th>\n",
       "      <th></th>\n",
       "    </tr>\n",
       "  </thead>\n",
       "  <tbody>\n",
       "    <tr>\n",
       "      <th>2023-01-01</th>\n",
       "      <td>128.21</td>\n",
       "      <td>149.77</td>\n",
       "      <td>166.64</td>\n",
       "      <td>100.08</td>\n",
       "      <td>143.81</td>\n",
       "      <td>116.86</td>\n",
       "      <td>107.80</td>\n",
       "      <td>119.10</td>\n",
       "      <td>82.27</td>\n",
       "      <td>97.90</td>\n",
       "      <td>116.03</td>\n",
       "      <td>144.87</td>\n",
       "      <td>125.91</td>\n",
       "    </tr>\n",
       "    <tr>\n",
       "      <th>2023-02-01</th>\n",
       "      <td>128.97</td>\n",
       "      <td>151.75</td>\n",
       "      <td>166.60</td>\n",
       "      <td>99.71</td>\n",
       "      <td>144.24</td>\n",
       "      <td>115.77</td>\n",
       "      <td>108.34</td>\n",
       "      <td>120.58</td>\n",
       "      <td>81.81</td>\n",
       "      <td>98.39</td>\n",
       "      <td>116.03</td>\n",
       "      <td>145.59</td>\n",
       "      <td>125.93</td>\n",
       "    </tr>\n",
       "    <tr>\n",
       "      <th>2023-03-01</th>\n",
       "      <td>129.08</td>\n",
       "      <td>152.10</td>\n",
       "      <td>166.03</td>\n",
       "      <td>99.44</td>\n",
       "      <td>144.70</td>\n",
       "      <td>115.86</td>\n",
       "      <td>108.87</td>\n",
       "      <td>119.52</td>\n",
       "      <td>81.70</td>\n",
       "      <td>98.58</td>\n",
       "      <td>116.03</td>\n",
       "      <td>146.02</td>\n",
       "      <td>126.37</td>\n",
       "    </tr>\n",
       "    <tr>\n",
       "      <th>2023-04-01</th>\n",
       "      <td>128.97</td>\n",
       "      <td>151.98</td>\n",
       "      <td>167.05</td>\n",
       "      <td>99.80</td>\n",
       "      <td>144.18</td>\n",
       "      <td>115.73</td>\n",
       "      <td>109.20</td>\n",
       "      <td>118.79</td>\n",
       "      <td>81.70</td>\n",
       "      <td>98.14</td>\n",
       "      <td>116.03</td>\n",
       "      <td>147.05</td>\n",
       "      <td>126.19</td>\n",
       "    </tr>\n",
       "    <tr>\n",
       "      <th>2023-05-01</th>\n",
       "      <td>128.88</td>\n",
       "      <td>152.16</td>\n",
       "      <td>168.48</td>\n",
       "      <td>99.58</td>\n",
       "      <td>144.27</td>\n",
       "      <td>114.96</td>\n",
       "      <td>109.47</td>\n",
       "      <td>117.81</td>\n",
       "      <td>81.64</td>\n",
       "      <td>97.81</td>\n",
       "      <td>116.03</td>\n",
       "      <td>147.38</td>\n",
       "      <td>126.37</td>\n",
       "    </tr>\n",
       "  </tbody>\n",
       "</table>\n",
       "</div>"
      ],
      "text/plain": [
       "            Índice general  Alimentos y bebidas no alcohólicas  \\\n",
       "Fecha                                                            \n",
       "2023-01-01          128.21                              149.77   \n",
       "2023-02-01          128.97                              151.75   \n",
       "2023-03-01          129.08                              152.10   \n",
       "2023-04-01          128.97                              151.98   \n",
       "2023-05-01          128.88                              152.16   \n",
       "\n",
       "            Bebidas alcohólicas, tabaco  Prendas de vestir y calzado  \\\n",
       "Fecha                                                                  \n",
       "2023-01-01                       166.64                       100.08   \n",
       "2023-02-01                       166.60                        99.71   \n",
       "2023-03-01                       166.03                        99.44   \n",
       "2023-04-01                       167.05                        99.80   \n",
       "2023-05-01                       168.48                        99.58   \n",
       "\n",
       "            Alojamiento, agua, electricidad, gas y otros combustibles  \\\n",
       "Fecha                                                                   \n",
       "2023-01-01                                             143.81           \n",
       "2023-02-01                                             144.24           \n",
       "2023-03-01                                             144.70           \n",
       "2023-04-01                                             144.18           \n",
       "2023-05-01                                             144.27           \n",
       "\n",
       "            Muebles, artículos para el hogar y para la conservación ordinaria del hogar  \\\n",
       "Fecha                                                                                     \n",
       "2023-01-01                                             116.86                             \n",
       "2023-02-01                                             115.77                             \n",
       "2023-03-01                                             115.86                             \n",
       "2023-04-01                                             115.73                             \n",
       "2023-05-01                                             114.96                             \n",
       "\n",
       "             Salud  Transporte  Comunicaciones  Recreación y cultura  \\\n",
       "Fecha                                                                  \n",
       "2023-01-01  107.80      119.10           82.27                 97.90   \n",
       "2023-02-01  108.34      120.58           81.81                 98.39   \n",
       "2023-03-01  108.87      119.52           81.70                 98.58   \n",
       "2023-04-01  109.20      118.79           81.70                 98.14   \n",
       "2023-05-01  109.47      117.81           81.64                 97.81   \n",
       "\n",
       "            Educación  Restaurantes y hoteles  Bienes y servicios diversos  \n",
       "Fecha                                                                       \n",
       "2023-01-01     116.03                  144.87                       125.91  \n",
       "2023-02-01     116.03                  145.59                       125.93  \n",
       "2023-03-01     116.03                  146.02                       126.37  \n",
       "2023-04-01     116.03                  147.05                       126.19  \n",
       "2023-05-01     116.03                  147.38                       126.37  "
      ]
     },
     "execution_count": 13,
     "metadata": {},
     "output_type": "execute_result"
    }
   ],
   "source": [
    "ipc_file_path = \"Datos_bitcoin/IPC_SV/Índice_de_Precios_al_Consumidor_(IPC).csv\"\n",
    "\n",
    "df_ipc = pd.read_csv(ipc_file_path, encoding='ISO-8859-1', sep=\",\", skiprows=4)\n",
    "df_ipc = df_ipc.iloc[:-2]\n",
    "\n",
    "\n",
    "data = {}\n",
    "fechas = pd.date_range(start=\"2023-01-01\", end=\"2024-10-01\", freq=\"MS\")\n",
    "columnas = [\n",
    "    \"Índice general\", \n",
    "    \"Alimentos y bebidas no alcohólicas\", \n",
    "    \"Bebidas alcohólicas, tabaco\", \n",
    "    \"Prendas de vestir y calzado\",\n",
    "    \"Alojamiento, agua, electricidad, gas y otros combustibles\"    ,\n",
    "    \"Muebles, artículos para el hogar y para la conservación ordinaria del hogar\",\n",
    "    \"Salud\",\n",
    "    \"Transporte\",\n",
    "    \"Comunicaciones\",\n",
    "    \"Recreación y cultura\",\n",
    "    \"Educación\",\n",
    "    \"Restaurantes y hoteles\",\n",
    "    \"Bienes y servicios diversos\"\n",
    "]\n",
    "\n",
    "for i in range(0, len(df_ipc)):\n",
    "    data[i] = df_ipc.iloc[i, 1:].values\n",
    "\n",
    "df_ipc = pd.DataFrame(data)\n",
    "df_ipc.columns = columnas\n",
    "df_ipc.index = fechas\n",
    "df_ipc.index.name = \"Fecha\"\n",
    "df_ipc = df_ipc.astype(float)\n",
    "df_ipc.head()"
   ]
  },
  {
   "cell_type": "markdown",
   "id": "fdf2b7ac",
   "metadata": {},
   "source": [
    "#### Diagrama lineal"
   ]
  },
  {
   "cell_type": "code",
   "execution_count": 14,
   "id": "d2d2d5b1",
   "metadata": {},
   "outputs": [],
   "source": [
    "# Código para mostrar el diagrama linea de los datos"
   ]
  },
  {
   "cell_type": "markdown",
   "id": "d6a27104",
   "metadata": {},
   "source": [
    "### Producto interno bruto (PIB) de El Salvador"
   ]
  },
  {
   "cell_type": "code",
   "execution_count": 15,
   "id": "5d34362d",
   "metadata": {},
   "outputs": [
    {
     "data": {
      "text/html": [
       "<div>\n",
       "<style scoped>\n",
       "    .dataframe tbody tr th:only-of-type {\n",
       "        vertical-align: middle;\n",
       "    }\n",
       "\n",
       "    .dataframe tbody tr th {\n",
       "        vertical-align: top;\n",
       "    }\n",
       "\n",
       "    .dataframe thead th {\n",
       "        text-align: right;\n",
       "    }\n",
       "</style>\n",
       "<table border=\"1\" class=\"dataframe\">\n",
       "  <thead>\n",
       "    <tr style=\"text-align: right;\">\n",
       "      <th></th>\n",
       "      <th>PIB en millones</th>\n",
       "    </tr>\n",
       "    <tr>\n",
       "      <th>Año</th>\n",
       "      <th></th>\n",
       "    </tr>\n",
       "  </thead>\n",
       "  <tbody>\n",
       "    <tr>\n",
       "      <th>2019</th>\n",
       "      <td>26881.14</td>\n",
       "    </tr>\n",
       "    <tr>\n",
       "      <th>2020</th>\n",
       "      <td>24921.19</td>\n",
       "    </tr>\n",
       "    <tr>\n",
       "      <th>2021</th>\n",
       "      <td>29043.14</td>\n",
       "    </tr>\n",
       "    <tr>\n",
       "      <th>2022</th>\n",
       "      <td>31988.92</td>\n",
       "    </tr>\n",
       "  </tbody>\n",
       "</table>\n",
       "</div>"
      ],
      "text/plain": [
       "      PIB en millones\n",
       "Año                  \n",
       "2019         26881.14\n",
       "2020         24921.19\n",
       "2021         29043.14\n",
       "2022         31988.92"
      ]
     },
     "execution_count": 15,
     "metadata": {},
     "output_type": "execute_result"
    }
   ],
   "source": [
    "#file_path = '/content/drive/MyDrive/Datos bitcoin/Inversion_SV/Posición_de_Inversión_Internacional_a_fin_de_período.csv'\n",
    "file_path = \"Datos_bitcoin/PIB_SV/Producto_Interno_Bruto__Producción_Gasto_e_Ingreso_A_precios_corrientes.csv\"\n",
    "\n",
    "\n",
    "df = pd.read_csv(file_path, encoding='ISO-8859-1', sep=',', skiprows=4)\n",
    "pib = pd.Series(df.columns[1:])\n",
    "\n",
    "df_pib = pd.DataFrame(pib, columns=[\"PIB en millones\"])\n",
    "df_pib.index = [2019, 2020, 2021, 2022, 2023]\n",
    "df_pib.index.name = \"Año\"\n",
    "df_pib[\"PIB en millones\"] = df_pib[\"PIB en millones\"].astype(float)\n",
    "df_pib = df_pib.drop(index=[2023], axis=0)\n",
    "df_pib"
   ]
  },
  {
   "cell_type": "markdown",
   "id": "8fc17dde",
   "metadata": {},
   "source": [
    "#### Diagrama lineal"
   ]
  },
  {
   "cell_type": "code",
   "execution_count": 16,
   "id": "ac84d14c",
   "metadata": {},
   "outputs": [],
   "source": [
    "# Código para mostrar el diagrama lineal"
   ]
  },
  {
   "cell_type": "markdown",
   "id": "83051e47",
   "metadata": {},
   "source": [
    "### Inversion extranjera"
   ]
  },
  {
   "cell_type": "code",
   "execution_count": 17,
   "id": "87222ebd",
   "metadata": {},
   "outputs": [],
   "source": [
    "# Código para mostrar el dataframe de inversión extranjera"
   ]
  },
  {
   "cell_type": "markdown",
   "id": "9a45ca66",
   "metadata": {},
   "source": [
    "#### Diagrama lineal"
   ]
  },
  {
   "cell_type": "code",
   "execution_count": 18,
   "id": "515dc0c9",
   "metadata": {},
   "outputs": [],
   "source": [
    "# Código para mostrar el diagrama lineal de la inversion extranjera"
   ]
  },
  {
   "cell_type": "markdown",
   "id": "2140d1ec",
   "metadata": {},
   "source": [
    "### Precio histórico del Bitcoin"
   ]
  },
  {
   "cell_type": "code",
   "execution_count": 19,
   "id": "ff7f9609",
   "metadata": {},
   "outputs": [],
   "source": [
    "# Código para mostrar el dataframe del precio historico del bitcoin"
   ]
  },
  {
   "cell_type": "markdown",
   "id": "df5ebbcb",
   "metadata": {},
   "source": [
    "#### Diagrama lineal"
   ]
  },
  {
   "cell_type": "code",
   "execution_count": 20,
   "id": "7fbd17aa",
   "metadata": {},
   "outputs": [],
   "source": [
    "# Código para mostrar el diagrama lineal"
   ]
  },
  {
   "cell_type": "markdown",
   "id": "20090607",
   "metadata": {},
   "source": [
    "### Reserva nacional"
   ]
  },
  {
   "cell_type": "code",
   "execution_count": 21,
   "id": "5c694534",
   "metadata": {},
   "outputs": [],
   "source": [
    "# Código para mostrar el dataframe de la reserva nacional"
   ]
  },
  {
   "cell_type": "markdown",
   "id": "7883bf6c",
   "metadata": {},
   "source": [
    "#### Diagrama lineal"
   ]
  },
  {
   "cell_type": "code",
   "execution_count": 22,
   "id": "4372a923",
   "metadata": {},
   "outputs": [],
   "source": [
    "# Código para el diagrama lineal"
   ]
  },
  {
   "cell_type": "markdown",
   "id": "4be6fecf",
   "metadata": {},
   "source": [
    "### CSV restantes"
   ]
  },
  {
   "cell_type": "code",
   "execution_count": null,
   "id": "ff1cf074",
   "metadata": {},
   "outputs": [],
   "source": []
  }
 ],
 "metadata": {
  "kernelspec": {
   "display_name": "Python 3 (ipykernel)",
   "language": "python",
   "name": "python3"
  },
  "language_info": {
   "codemirror_mode": {
    "name": "ipython",
    "version": 3
   },
   "file_extension": ".py",
   "mimetype": "text/x-python",
   "name": "python",
   "nbconvert_exporter": "python",
   "pygments_lexer": "ipython3",
   "version": "3.12.7"
  }
 },
 "nbformat": 4,
 "nbformat_minor": 5
}
